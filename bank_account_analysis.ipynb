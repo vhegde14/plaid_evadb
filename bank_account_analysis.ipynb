{
 "cells": [
  {
   "cell_type": "markdown",
   "metadata": {},
   "source": [
    "## Integrating EvaDB with Plaid for Financial Insights\n",
    "The goal of this project is to try and connect a bank account to a database. We will be using Plaid to access transactions, and then storing them in a Postgres DB and then use EvaDB to provide a natural language AI layer to our DB. "
   ]
  },
  {
   "cell_type": "markdown",
   "metadata": {},
   "source": [
    "### Creating the Postgres Server"
   ]
  }
 ],
 "metadata": {
  "kernelspec": {
   "display_name": "evadb-venv",
   "language": "python",
   "name": "python3"
  },
  "language_info": {
   "codemirror_mode": {
    "name": "ipython",
    "version": 3
   },
   "file_extension": ".py",
   "mimetype": "text/x-python",
   "name": "python",
   "nbconvert_exporter": "python",
   "pygments_lexer": "ipython3",
   "version": "3.10.9"
  }
 },
 "nbformat": 4,
 "nbformat_minor": 2
}
